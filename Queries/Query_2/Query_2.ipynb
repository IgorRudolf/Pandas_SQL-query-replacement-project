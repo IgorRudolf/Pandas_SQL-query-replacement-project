{
 "cells": [
  {
   "cell_type": "code",
   "execution_count": null,
   "id": "ce483c36",
   "metadata": {},
   "outputs": [],
   "source": [
    "Query_2 = \"\"\"\n",
    "SELECT STRFTIME('%Y', CreationDate) AS Year,\n",
    "       STRFTIME('%m', CreationDate) AS Month,\n",
    "       COUNT(*) AS PostsNumber, MAX(Score) AS MaxScore\n",
    "FROM Posts\n",
    "WHERE PostTypeId IN (1, 2)\n",
    "GROUP BY Year, Month\n",
    "HAVING PostsNumber > 1000\n",
    "\"\"\""
   ]
  }
 ],
 "metadata": {
  "kernelspec": {
   "display_name": "Python 3 (ipykernel)",
   "language": "python",
   "name": "python3"
  },
  "language_info": {
   "codemirror_mode": {
    "name": "ipython",
    "version": 3
   },
   "file_extension": ".py",
   "mimetype": "text/x-python",
   "name": "python",
   "nbconvert_exporter": "python",
   "pygments_lexer": "ipython3",
   "version": "3.11.3"
  }
 },
 "nbformat": 4,
 "nbformat_minor": 5
}
