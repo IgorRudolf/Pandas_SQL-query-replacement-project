{
 "cells": [
  {
   "cell_type": "code",
   "execution_count": null,
   "id": "720c95f8",
   "metadata": {},
   "outputs": [],
   "source": [
    "Query_4 = \"\"\"\n",
    "SELECT DisplayName, QuestionsNumber, AnswersNumber, Location, Reputation, UpVotes, DownVotes\n",
    "FROM (\n",
    "        SELECT *\n",
    "        FROM (\n",
    "                SELECT COUNT(*) as AnswersNumber, OwnerUserId\n",
    "                FROM Posts\n",
    "                WHERE PostTypeId = 2\n",
    "                GROUP BY OwnerUserId\n",
    "            ) AS Answers\n",
    "        JOIN\n",
    "            (\n",
    "                SELECT COUNT(*) as QuestionsNumber, OwnerUserId\n",
    "                FROM Posts\n",
    "                WHERE PostTypeId = 1\n",
    "                GROUP BY OwnerUserId\n",
    "            ) AS Questions\n",
    "        ON Answers.OwnerUserId = Questions.OwnerUserId\n",
    "        WHERE AnswersNumber > QuestionsNumber\n",
    "        ORDER BY AnswersNumber DESC\n",
    "        LIMIT 5\n",
    "    ) AS PostsCounts\n",
    "JOIN Users\n",
    "ON PostsCounts.OwnerUserId = Users.Id\n",
    "\"\"\""
   ]
  }
 ],
 "metadata": {
  "kernelspec": {
   "display_name": "Python 3 (ipykernel)",
   "language": "python",
   "name": "python3"
  },
  "language_info": {
   "codemirror_mode": {
    "name": "ipython",
    "version": 3
   },
   "file_extension": ".py",
   "mimetype": "text/x-python",
   "name": "python",
   "nbconvert_exporter": "python",
   "pygments_lexer": "ipython3",
   "version": "3.11.3"
  }
 },
 "nbformat": 4,
 "nbformat_minor": 5
}
