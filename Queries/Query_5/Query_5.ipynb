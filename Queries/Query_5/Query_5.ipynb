{
 "cells": [
  {
   "cell_type": "code",
   "execution_count": null,
   "id": "71da55ac",
   "metadata": {},
   "outputs": [],
   "source": [
    "Query_5 = \"\"\"\n",
    "SELECT Title, CommentCount, ViewCount, CommentsTotalScore, DisplayName, Reputation, Location\n",
    "FROM (\n",
    "        SELECT Posts.OwnerUserId, Posts.Title, Posts.CommentCount, Posts.ViewCount,\n",
    "               CmtTotScr.CommentsTotalScore\n",
    "        FROM (\n",
    "                SELECT PostId, SUM(Score) AS CommentsTotalScore\n",
    "                FROM Comments\n",
    "                GROUP BY PostId\n",
    "            ) AS CmtTotScr\n",
    "        JOIN Posts ON Posts.Id = CmtTotScr.PostId\n",
    "        WHERE Posts.PostTypeId=1\n",
    "    ) AS PostsBestComments\n",
    "JOIN Users ON PostsBestComments.OwnerUserId = Users.Id\n",
    "ORDER BY CommentsTotalScore DESC\n",
    "LIMIT 10\n",
    "\"\"\""
   ]
  }
 ],
 "metadata": {
  "kernelspec": {
   "display_name": "Python 3 (ipykernel)",
   "language": "python",
   "name": "python3"
  },
  "language_info": {
   "codemirror_mode": {
    "name": "ipython",
    "version": 3
   },
   "file_extension": ".py",
   "mimetype": "text/x-python",
   "name": "python",
   "nbconvert_exporter": "python",
   "pygments_lexer": "ipython3",
   "version": "3.11.3"
  }
 },
 "nbformat": 4,
 "nbformat_minor": 5
}
