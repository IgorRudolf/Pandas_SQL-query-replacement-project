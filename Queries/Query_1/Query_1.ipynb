{
 "cells": [
  {
   "cell_type": "code",
   "execution_count": null,
   "id": "18e14d64",
   "metadata": {},
   "outputs": [],
   "source": [
    "Query_1 = \"\"\"\n",
    "SELECT Location, SUM(UpVotes) as TotalUpVotes\n",
    "FROM Users\n",
    "WHERE Location != ''\n",
    "GROUP BY Location\n",
    "ORDER BY TotalUpVotes DESC\n",
    "LIMIT 10\n",
    "\"\"\""
   ]
  }
 ],
 "metadata": {
  "kernelspec": {
   "display_name": "Python 3 (ipykernel)",
   "language": "python",
   "name": "python3"
  },
  "language_info": {
   "codemirror_mode": {
    "name": "ipython",
    "version": 3
   },
   "file_extension": ".py",
   "mimetype": "text/x-python",
   "name": "python",
   "nbconvert_exporter": "python",
   "pygments_lexer": "ipython3",
   "version": "3.11.3"
  }
 },
 "nbformat": 4,
 "nbformat_minor": 5
}
