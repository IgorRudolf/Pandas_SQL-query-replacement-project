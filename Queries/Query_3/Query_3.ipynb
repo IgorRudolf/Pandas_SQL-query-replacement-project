{
 "cells": [
  {
   "cell_type": "code",
   "execution_count": null,
   "id": "26468c55",
   "metadata": {},
   "outputs": [],
   "source": [
    "Query_3 = \"\"\"\n",
    "SELECT Id, DisplayName, TotalViews\n",
    "FROM (\n",
    "        SELECT OwnerUserId, SUM(ViewCount) as TotalViews\n",
    "        FROM Posts\n",
    "        WHERE PostTypeId = 1\n",
    "        GROUP BY OwnerUserId\n",
    "    ) AS Questions\n",
    "JOIN Users\n",
    "ON Users.Id = Questions.OwnerUserId\n",
    "ORDER BY TotalViews DESC\n",
    "LIMIT 10\n",
    "\"\"\""
   ]
  }
 ],
 "metadata": {
  "kernelspec": {
   "display_name": "Python 3 (ipykernel)",
   "language": "python",
   "name": "python3"
  },
  "language_info": {
   "codemirror_mode": {
    "name": "ipython",
    "version": 3
   },
   "file_extension": ".py",
   "mimetype": "text/x-python",
   "name": "python",
   "nbconvert_exporter": "python",
   "pygments_lexer": "ipython3",
   "version": "3.11.3"
  }
 },
 "nbformat": 4,
 "nbformat_minor": 5
}
